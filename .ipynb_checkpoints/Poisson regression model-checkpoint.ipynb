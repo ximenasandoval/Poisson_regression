{
 "cells": [
  {
   "cell_type": "markdown",
   "metadata": {},
   "source": [
    "# How to: Poisson regression model"
   ]
  },
  {
   "cell_type": "markdown",
   "metadata": {},
   "source": [
    "## Let's load the modules we need"
   ]
  },
  {
   "cell_type": "code",
   "execution_count": 87,
   "metadata": {},
   "outputs": [],
   "source": [
    "%matplotlib inline\n",
    "import numpy as np\n",
    "import matplotlib.pyplot as plt\n",
    "\n",
    "plt.rcParams['figure.figsize'] = (10,5)\n",
    "plt.style.use('ggplot')"
   ]
  },
  {
   "cell_type": "code",
   "execution_count": 88,
   "metadata": {},
   "outputs": [
    {
     "data": {
      "text/plain": [
       "Text(0, 0.5, 'BB_COUNT')"
      ]
     },
     "execution_count": 88,
     "metadata": {},
     "output_type": "execute_result"
    },
    {
     "data": {
      "image/png": "[encoded data removed]",
      "text/plain": [
       "<Figure size 720x360 with 1 Axes>"
      ]
     },
     "metadata": {},
     "output_type": "display_data"
    }
   ],
   "source": [
    "data = np.loadtxt('Data/nyc_bb_bicyclist_counts.txt', comments='%', delimiter=\",\")\n",
    "\n",
    "x, y = data[:, 0:3], data[:, 3]\n",
    "M, n = x.shape\n",
    "plt.plot(y, 'rx')\n",
    "plt.title(u'NYC Bicycle count')\n",
    "plt.ylabel(r\"BB_COUNT\")"
   ]
  },
  {
   "cell_type": "code",
   "execution_count": 89,
   "metadata": {},
   "outputs": [],
   "source": [
    "def loss(x, y, w, b):\n",
    "    y_hat = np.exp(x @ w + b)\n",
    "    # print(y_hat)\n",
    "    error = (y_hat - np.log(y_hat) * y).mean()\n",
    "    return error\n",
    "        "
   ]
  },
  {
   "cell_type": "code",
   "execution_count": 133,
   "metadata": {},
   "outputs": [],
   "source": [
    "def grad(x, y, w, b):\n",
    "    M, n = x.shape\n",
    "    y_hat = np.exp(x @ w + b)\n",
    "    dw = (x.T @ (y_hat - y)) / M\n",
    "    db = (y_hat - y).mean()\n",
    "    print(\"dw = {}\".format(dw))\n",
    "    print(\"db = {}\".format(db))\n",
    "    return dw, db\n",
    "\n",
    "def batch_gradient_descent(x, y, w_0, b_0, alpha, num_iter):\n",
    "    w, b = w_0.copy(), b_0\n",
    "    hist = np.zeros(num_iter)\n",
    "    M, n = x.shape\n",
    "    \n",
    "    for iter in range(num_iter):\n",
    "        dw, db = grad(x, y, w, b)\n",
    "        print(loss(x, y, w, b))\n",
    "        \n",
    "        w += alpha * dw \n",
    "        b += alpha * db\n",
    "        print(\"w nueva = {}\".format(w))\n",
    "        print(\"b nueva = {}\".format(b))\n",
    "        hist[iter] = loss(x, y, w, b)\n",
    "        \n",
    "    return w, b, hist"
   ]
  },
  {
   "cell_type": "code",
   "execution_count": 149,
   "metadata": {},
   "outputs": [
    {
     "ename": "AttributeError",
     "evalue": "'numpy.ndarray' object has no attribute 'type'",
     "output_type": "error",
     "traceback": [
      "\u001b[0;31m---------------------------------------------------------------------------\u001b[0m",
      "\u001b[0;31mAttributeError\u001b[0m                            Traceback (most recent call last)",
      "\u001b[0;32m<ipython-input-149-33bbb685b9ea>\u001b[0m in \u001b[0;36m<module>\u001b[0;34m\u001b[0m\n\u001b[1;32m      8\u001b[0m \u001b[0my\u001b[0m \u001b[0;34m=\u001b[0m \u001b[0mnp\u001b[0m\u001b[0;34m.\u001b[0m\u001b[0marray\u001b[0m\u001b[0;34m(\u001b[0m\u001b[0;34m[\u001b[0m\u001b[0;36m1096\u001b[0m\u001b[0;34m,\u001b[0m \u001b[0;36m8886110\u001b[0m\u001b[0;34m,\u001b[0m \u001b[0;36m72004899337\u001b[0m\u001b[0;34m]\u001b[0m\u001b[0;34m)\u001b[0m\u001b[0;34m\u001b[0m\u001b[0;34m\u001b[0m\u001b[0m\n\u001b[1;32m      9\u001b[0m \u001b[0;34m\u001b[0m\u001b[0m\n\u001b[0;32m---> 10\u001b[0;31m \u001b[0my\u001b[0m\u001b[0;34m.\u001b[0m\u001b[0mtype\u001b[0m\u001b[0;34m\u001b[0m\u001b[0;34m\u001b[0m\u001b[0m\n\u001b[0m",
      "\u001b[0;31mAttributeError\u001b[0m: 'numpy.ndarray' object has no attribute 'type'"
     ]
    }
   ],
   "source": [
    "w_0 = np.zeros((n,))\n",
    "b_0 = 1\n",
    "\n",
    "iteraciones = 10\n",
    "alpha = 0.000001\n",
    "\n",
    "x_test = np.array([[1, 2, 3],[4, 5, 6],[7, 8, 9]])\n",
    "y_test = np.array([1096, 8886110, 72004899337])\n"
   ]
  }
 ],
 "metadata": {
  "kernelspec": {
   "display_name": "Python 3",
   "language": "python",
   "name": "python3"
  },
  "language_info": {
   "codemirror_mode": {
    "name": "ipython",
    "version": 3
   },
   "file_extension": ".py",
   "mimetype": "text/x-python",
   "name": "python",
   "nbconvert_exporter": "python",
   "pygments_lexer": "ipython3",
   "version": "3.8.5"
  }
 },
 "nbformat": 4,
 "nbformat_minor": 4
}
